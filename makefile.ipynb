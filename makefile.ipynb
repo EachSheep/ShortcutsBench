{
 "cells": [
  {
   "cell_type": "code",
   "execution_count": 1,
   "metadata": {},
   "outputs": [],
   "source": [
    "import json\n",
    "import random\n",
    "import os"
   ]
  },
  {
   "cell_type": "code",
   "execution_count": 2,
   "metadata": {},
   "outputs": [],
   "source": [
    "with open('records_category.json','r',encoding='utf-8') as f:\n",
    "    all_data = json.load(f)\n",
    "with open('records_category_sorted.json','r',encoding='utf-8') as f:\n",
    "    sorted_data = json.load(f)"
   ]
  },
  {
   "cell_type": "code",
   "execution_count": 3,
   "metadata": {},
   "outputs": [],
   "source": [
    "for key, value in sorted_data.items():\n",
    "    store_name = key.split(\"//\")[-1]\n",
    "    store_name = \"dataset/\"+store_name.replace(\"/\", \"_\")\n",
    "    # 检查文件夹是否存在\n",
    "    if not os.path.exists(store_name):\n",
    "        # 如果文件夹不存在，创建文件夹\n",
    "        os.mkdir(store_name)\n",
    "    for key1,value1 in value.items():\n",
    "        if key1 != \"null\":\n",
    "            cate_name = store_name+\"/\"+key1\n",
    "            if not os.path.exists(cate_name):\n",
    "                os.mkdir(cate_name)\n",
    "        else:\n",
    "            cate_name = store_name\n",
    "        # with open('README.md','r') as f:\n",
    "        content = \"# \" + f\"{cate_name}\\n\\n\"\n",
    "        for key2, value2 in value1.items():\n",
    "            content += \"### Name: \" + f\"{key2}\\n\\n\"\n",
    "            content += \"- URL: \" + f'{value2[\"URL\"]}\\n\\n'\n",
    "            content += \"- Description: \" + f'{value2[\"Description\"]}\\n\\n'\n",
    "            content += \"- Source: \" + f'{value2[\"Source\"]}\\n\\n'\n",
    "            content += \"- FilePath: \" + f'{value2[\"FilePath\"]}\\n\\n'\n",
    "        with open(cate_name+\"/README.md\",'w') as file:\n",
    "            file.write(content)\n",
    "\n",
    "        \n",
    "\n",
    "\n",
    "\n",
    "\n"
   ]
  },
  {
   "cell_type": "code",
   "execution_count": null,
   "metadata": {},
   "outputs": [],
   "source": []
  }
 ],
 "metadata": {
  "kernelspec": {
   "display_name": "Python 3",
   "language": "python",
   "name": "python3"
  },
  "language_info": {
   "codemirror_mode": {
    "name": "ipython",
    "version": 3
   },
   "file_extension": ".py",
   "mimetype": "text/x-python",
   "name": "python",
   "nbconvert_exporter": "python",
   "pygments_lexer": "ipython3",
   "version": "3.10.13"
  }
 },
 "nbformat": 4,
 "nbformat_minor": 2
}
